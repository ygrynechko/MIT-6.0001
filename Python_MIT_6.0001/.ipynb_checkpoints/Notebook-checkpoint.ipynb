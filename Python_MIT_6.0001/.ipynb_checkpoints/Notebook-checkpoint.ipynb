{
 "cells": [
  {
   "cell_type": "markdown",
   "metadata": {},
   "source": [
    "# My Syllabus "
   ]
  },
  {
   "cell_type": "markdown",
   "metadata": {},
   "source": [
    "In this file I am going to store everything I did to master Python and machine learning."
   ]
  },
  {
   "cell_type": "markdown",
   "metadata": {},
   "source": [
    "### 1. IBM Data Science on Coursera "
   ]
  },
  {
   "cell_type": "markdown",
   "metadata": {},
   "source": [
    "I started with this course on Coursera. The whole thing took me about a month. By any means I don't \n",
    "think that it was a wasted time. Some assigments were great and I learned a lot but I felt like catching up all the time.\n",
    "The videos didn't explain all of the bits of the code which were used so sometimes it required a lot of digging the web.\n",
    "Unfortunetelly every assigment I published was just scorred to max without any comments. I know that I solved the problem\n",
    "but was the method the fastest? Have no idea. \n",
    "As the result of the course I did this analysis for final assignment: \n",
    "https://github.com/ygrynechko/IBM_Data_Science_Final_Project\n",
    "\n",
    "Overall it was fun but I feel like I need to get back to basics before trying my own more suffisticated projects. \n"
   ]
  },
  {
   "cell_type": "markdown",
   "metadata": {},
   "source": [
    "### 2. Getting basics right: MIT 6.0001"
   ]
  },
  {
   "cell_type": "markdown",
   "metadata": {},
   "source": [
    "### 3. Andrew Ng on Coursera "
   ]
  },
  {
   "cell_type": "code",
   "execution_count": null,
   "metadata": {},
   "outputs": [],
   "source": []
  }
 ],
 "metadata": {
  "kernelspec": {
   "display_name": "Python 3",
   "language": "python",
   "name": "python3"
  },
  "language_info": {
   "codemirror_mode": {
    "name": "ipython",
    "version": 3
   },
   "file_extension": ".py",
   "mimetype": "text/x-python",
   "name": "python",
   "nbconvert_exporter": "python",
   "pygments_lexer": "ipython3",
   "version": "3.7.6"
  }
 },
 "nbformat": 4,
 "nbformat_minor": 4
}
