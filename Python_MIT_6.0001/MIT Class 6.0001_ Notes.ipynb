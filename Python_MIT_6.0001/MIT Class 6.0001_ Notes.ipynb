{
 "cells": [
  {
   "cell_type": "markdown",
   "metadata": {},
   "source": [
    "# Lesson 1"
   ]
  },
  {
   "cell_type": "code",
   "execution_count": 1,
   "metadata": {},
   "outputs": [
    {
     "data": {
      "text/plain": [
       "int"
      ]
     },
     "execution_count": 1,
     "metadata": {},
     "output_type": "execute_result"
    }
   ],
   "source": [
    "type(5)"
   ]
  },
  {
   "cell_type": "code",
   "execution_count": 7,
   "metadata": {},
   "outputs": [
    {
     "data": {
      "text/plain": [
       "8"
      ]
     },
     "execution_count": 7,
     "metadata": {},
     "output_type": "execute_result"
    }
   ],
   "source": [
    "#power\n",
    "2**3"
   ]
  },
  {
   "cell_type": "code",
   "execution_count": 8,
   "metadata": {},
   "outputs": [
    {
     "data": {
      "text/plain": [
       "1"
      ]
     },
     "execution_count": 8,
     "metadata": {},
     "output_type": "execute_result"
    }
   ],
   "source": [
    "#remainder - reszta\n",
    "5%2"
   ]
  },
  {
   "cell_type": "code",
   "execution_count": 9,
   "metadata": {},
   "outputs": [],
   "source": [
    "#assigning value to variable\n",
    "pi = 3.14"
   ]
  },
  {
   "cell_type": "code",
   "execution_count": 10,
   "metadata": {},
   "outputs": [],
   "source": [
    "pi_approx = 22/7"
   ]
  },
  {
   "cell_type": "code",
   "execution_count": 12,
   "metadata": {},
   "outputs": [
    {
     "data": {
      "text/plain": [
       "3.142857142857143"
      ]
     },
     "execution_count": 12,
     "metadata": {},
     "output_type": "execute_result"
    }
   ],
   "source": [
    "pi_approx"
   ]
  },
  {
   "cell_type": "code",
   "execution_count": 13,
   "metadata": {},
   "outputs": [],
   "source": [
    "radius = 2.2"
   ]
  },
  {
   "cell_type": "code",
   "execution_count": 18,
   "metadata": {},
   "outputs": [],
   "source": [
    "area = pi*(radius**2)"
   ]
  },
  {
   "cell_type": "code",
   "execution_count": 19,
   "metadata": {},
   "outputs": [
    {
     "data": {
      "text/plain": [
       "32.153600000000004"
      ]
     },
     "execution_count": 19,
     "metadata": {},
     "output_type": "execute_result"
    }
   ],
   "source": [
    "area"
   ]
  },
  {
   "cell_type": "code",
   "execution_count": 17,
   "metadata": {},
   "outputs": [],
   "source": [
    "radius = radius + 1"
   ]
  },
  {
   "cell_type": "markdown",
   "metadata": {},
   "source": [
    "# Lession 2"
   ]
  },
  {
   "cell_type": "markdown",
   "metadata": {},
   "source": [
    "Branching and Iteration"
   ]
  },
  {
   "cell_type": "code",
   "execution_count": 24,
   "metadata": {},
   "outputs": [],
   "source": [
    "hi = \"hello there \""
   ]
  },
  {
   "cell_type": "code",
   "execution_count": 25,
   "metadata": {},
   "outputs": [],
   "source": [
    "hiii = hi*3"
   ]
  },
  {
   "cell_type": "code",
   "execution_count": 26,
   "metadata": {},
   "outputs": [
    {
     "data": {
      "text/plain": [
       "'hello there hello there hello there '"
      ]
     },
     "execution_count": 26,
     "metadata": {},
     "output_type": "execute_result"
    }
   ],
   "source": [
    "hiii"
   ]
  },
  {
   "cell_type": "code",
   "execution_count": 27,
   "metadata": {},
   "outputs": [
    {
     "name": "stdout",
     "output_type": "stream",
     "text": [
      "hello there hello there hello there \n"
     ]
    }
   ],
   "source": [
    "print(hiii)"
   ]
  },
  {
   "cell_type": "code",
   "execution_count": 28,
   "metadata": {},
   "outputs": [
    {
     "name": "stdout",
     "output_type": "stream",
     "text": [
      "1\n"
     ]
    }
   ],
   "source": [
    "x = 1\n",
    "print(x)"
   ]
  },
  {
   "cell_type": "code",
   "execution_count": 29,
   "metadata": {},
   "outputs": [
    {
     "name": "stdout",
     "output_type": "stream",
     "text": [
      "provided number is 1\n"
     ]
    }
   ],
   "source": [
    "#cast x into string \n",
    "x_str = str(x)\n",
    "#coma adds space after it\n",
    "print(\"provided number is\", x)"
   ]
  },
  {
   "cell_type": "code",
   "execution_count": 31,
   "metadata": {},
   "outputs": [
    {
     "name": "stdout",
     "output_type": "stream",
     "text": [
      "provided number is1\n"
     ]
    }
   ],
   "source": [
    "#concat doesn't add coma and everything needs to be the same type\n",
    "print(\"provided number is\"+ x_str)"
   ]
  },
  {
   "cell_type": "code",
   "execution_count": 35,
   "metadata": {},
   "outputs": [
    {
     "name": "stdout",
     "output_type": "stream",
     "text": [
      "Type anything... Restart\n",
      "RestartRestartRestartRestartRestart\n"
     ]
    }
   ],
   "source": [
    "#input to allow user to insert data. remember that input gives string \n",
    "#so you need to cast to numbers\n",
    "text = input(\"Type anything...\")\n",
    "print(5*text)"
   ]
  },
  {
   "cell_type": "code",
   "execution_count": 37,
   "metadata": {},
   "outputs": [
    {
     "name": "stdout",
     "output_type": "stream",
     "text": [
      "Type a number...590\n",
      "2950\n"
     ]
    }
   ],
   "source": [
    "#casting to int \n",
    "num = int(input(\"Type a number...\"))\n",
    "print(5*num)"
   ]
  },
  {
   "cell_type": "markdown",
   "metadata": {},
   "source": [
    "COMPARISON"
   ]
  },
  {
   "cell_type": "code",
   "execution_count": 42,
   "metadata": {},
   "outputs": [
    {
     "name": "stdout",
     "output_type": "stream",
     "text": [
      "i > j False i >= j False i< j True i <= j True i==j False i!=j True\n"
     ]
    }
   ],
   "source": [
    "#remember = is assignment and == is comparison\n",
    "i=1\n",
    "j=2\n",
    "print(\n",
    "\"i > j\",i > j,\n",
    "\"i >= j\",i >= j, \n",
    "\"i< j\",i< j,\n",
    "\"i <= j\",i <= j,\n",
    "\"i==j\",i==j,\n",
    "\"i!=j\",i!=j)"
   ]
  },
  {
   "cell_type": "markdown",
   "metadata": {},
   "source": [
    "Logic Operators on BOOLS"
   ]
  },
  {
   "cell_type": "code",
   "execution_count": 45,
   "metadata": {},
   "outputs": [
    {
     "data": {
      "text/plain": [
       "False"
      ]
     },
     "execution_count": 45,
     "metadata": {},
     "output_type": "execute_result"
    }
   ],
   "source": [
    "#revert \n",
    "a = True\n",
    "not a"
   ]
  },
  {
   "cell_type": "code",
   "execution_count": 46,
   "metadata": {},
   "outputs": [
    {
     "data": {
      "text/plain": [
       "True"
      ]
     },
     "execution_count": 46,
     "metadata": {},
     "output_type": "execute_result"
    }
   ],
   "source": [
    "#True if both are True\n",
    "b= True\n",
    "a and b"
   ]
  },
  {
   "cell_type": "code",
   "execution_count": 47,
   "metadata": {},
   "outputs": [
    {
     "data": {
      "text/plain": [
       "True"
      ]
     },
     "execution_count": 47,
     "metadata": {},
     "output_type": "execute_result"
    }
   ],
   "source": [
    "#True if either or both are true\n",
    "a or b"
   ]
  },
  {
   "cell_type": "markdown",
   "metadata": {},
   "source": [
    "## Branching"
   ]
  },
  {
   "cell_type": "markdown",
   "metadata": {},
   "source": [
    "If something do something "
   ]
  },
  {
   "cell_type": "code",
   "execution_count": 55,
   "metadata": {},
   "outputs": [
    {
     "name": "stdout",
     "output_type": "stream",
     "text": [
      "<\n"
     ]
    }
   ],
   "source": [
    "c = 4\n",
    "d = 5\n",
    "if c == d:\n",
    "    print(\"=\")\n",
    "elif c<d:\n",
    "    print(\"<\")\n",
    "else:\n",
    "    print(\">\")"
   ]
  },
  {
   "cell_type": "markdown",
   "metadata": {},
   "source": [
    "## Loops"
   ]
  },
  {
   "cell_type": "markdown",
   "metadata": {},
   "source": [
    "while<condition>:\n",
    "    <do something>\n",
    "<do something else>"
   ]
  },
  {
   "cell_type": "code",
   "execution_count": 58,
   "metadata": {},
   "outputs": [
    {
     "name": "stdout",
     "output_type": "stream",
     "text": [
      "11\n",
      "21\n",
      "31\n",
      "41\n",
      "51\n",
      "61\n",
      "71\n",
      "81\n",
      "91\n",
      "101\n",
      "over 100\n"
     ]
    }
   ],
   "source": [
    "#Ctr+C to stop infinite loop \n",
    "loop = 1\n",
    "while loop < 100:\n",
    "    loop= loop + 10\n",
    "    print(loop)\n",
    "print(\"over 100\")"
   ]
  },
  {
   "cell_type": "code",
   "execution_count": 61,
   "metadata": {},
   "outputs": [
    {
     "name": "stdout",
     "output_type": "stream",
     "text": [
      "0\n",
      "1\n",
      "2\n",
      "3\n",
      "4\n"
     ]
    }
   ],
   "source": [
    "#shortcut with for loop. this start from 0 goes to range -5 and jumps every1\n",
    "for n in range(5):\n",
    "    print(n)"
   ]
  },
  {
   "cell_type": "code",
   "execution_count": 66,
   "metadata": {},
   "outputs": [
    {
     "name": "stdout",
     "output_type": "stream",
     "text": [
      "7 7\n",
      "15 8\n",
      "24 9\n"
     ]
    }
   ],
   "source": [
    "#you can customize for range\n",
    "#range(start, stop, step)\n",
    "mysum = 0\n",
    "for i in range(7,10):\n",
    "    mysum+=i\n",
    "    print(mysum, i)"
   ]
  },
  {
   "cell_type": "code",
   "execution_count": 67,
   "metadata": {},
   "outputs": [
    {
     "name": "stdout",
     "output_type": "stream",
     "text": [
      "5 5\n",
      "12 7\n",
      "21 9\n"
     ]
    }
   ],
   "source": [
    "mysum = 0\n",
    "for i in range(5, 11, 2):\n",
    "    mysum+=i\n",
    "    print(mysum, i)\n"
   ]
  },
  {
   "cell_type": "markdown",
   "metadata": {},
   "source": [
    "BREAK\n",
    "- exists loop it is in\n",
    "- skips remaining expressions in code block\n",
    "- exits only innermost loop\n",
    "while <condition_1>:\n",
    "    while <condition_2>:\n",
    "        <expression_a>\n",
    "        break\n",
    "        <expression_b>\n",
    "    <expression c>"
   ]
  },
  {
   "cell_type": "markdown",
   "metadata": {},
   "source": [
    "# Lesson 3"
   ]
  },
  {
   "cell_type": "markdown",
   "metadata": {},
   "source": [
    "String manipulation"
   ]
  },
  {
   "cell_type": "code",
   "execution_count": 1,
   "metadata": {},
   "outputs": [
    {
     "data": {
      "text/plain": [
       "16"
      ]
     },
     "execution_count": 1,
     "metadata": {},
     "output_type": "execute_result"
    }
   ],
   "source": [
    "s = \"asdasfsafsdfsfsf\"\n",
    "len(s)"
   ]
  },
  {
   "cell_type": "code",
   "execution_count": 2,
   "metadata": {},
   "outputs": [
    {
     "data": {
      "text/plain": [
       "'a'"
      ]
     },
     "execution_count": 2,
     "metadata": {},
     "output_type": "execute_result"
    }
   ],
   "source": [
    "#Indexing, from beggining\n",
    "s[0]"
   ]
  },
  {
   "cell_type": "code",
   "execution_count": 3,
   "metadata": {},
   "outputs": [
    {
     "data": {
      "text/plain": [
       "'f'"
      ]
     },
     "execution_count": 3,
     "metadata": {},
     "output_type": "execute_result"
    }
   ],
   "source": [
    "#from the back\n",
    "s[-1]"
   ]
  },
  {
   "cell_type": "code",
   "execution_count": 7,
   "metadata": {},
   "outputs": [
    {
     "data": {
      "text/plain": [
       "'af'"
      ]
     },
     "execution_count": 7,
     "metadata": {},
     "output_type": "execute_result"
    }
   ],
   "source": [
    "#substrings - slicing into the string \n",
    "#slice[start,stop,step] 1 is the default step\n",
    "s_part = s[3:6:2]\n",
    "s_part"
   ]
  },
  {
   "cell_type": "code",
   "execution_count": 8,
   "metadata": {},
   "outputs": [
    {
     "data": {
      "text/plain": [
       "'asdasfsafsdfsfsf'"
      ]
     },
     "execution_count": 8,
     "metadata": {},
     "output_type": "execute_result"
    }
   ],
   "source": []
  },
  {
   "cell_type": "code",
   "execution_count": 19,
   "metadata": {},
   "outputs": [],
   "source": [
    "#strings cannot be modified, they are IMMUTABLE\n",
    "h = \"hello\"\n",
    "#s[0]= \"y\" this doent work\n",
    "#to make change you need to\n",
    "h= \"Yo\"+ h[3:len(h)]"
   ]
  },
  {
   "cell_type": "code",
   "execution_count": 20,
   "metadata": {},
   "outputs": [
    {
     "data": {
      "text/plain": [
       "'Yolo'"
      ]
     },
     "execution_count": 20,
     "metadata": {},
     "output_type": "execute_result"
    }
   ],
   "source": [
    "h"
   ]
  },
  {
   "cell_type": "code",
   "execution_count": 27,
   "metadata": {},
   "outputs": [
    {
     "name": "stdout",
     "output_type": "stream",
     "text": [
      "There is an i or u\n",
      "There is an i or u\n",
      "There is an i or u\n",
      "There is an i or u\n"
     ]
    }
   ],
   "source": [
    "#for loops in strings \n",
    "s = \"abcdueuuufgh\"\n",
    "for index in range(len(s)):\n",
    "    if s[index] == 'i' or s[index] =='u':\n",
    "        print(\"There is an i or u\")"
   ]
  },
  {
   "cell_type": "code",
   "execution_count": 28,
   "metadata": {},
   "outputs": [
    {
     "name": "stdout",
     "output_type": "stream",
     "text": [
      "There is an i or u\n",
      "There is an i or u\n",
      "There is an i or u\n",
      "There is an i or u\n"
     ]
    }
   ],
   "source": [
    "#short version for string\n",
    "#this one is much more pythonic :D \n",
    "for char in s:\n",
    "       if char == 'i' or char =='u':\n",
    "            print(\"There is an i or u\") "
   ]
  },
  {
   "cell_type": "markdown",
   "metadata": {},
   "source": [
    "Code Example ROBOT CHEERLEADER"
   ]
  },
  {
   "cell_type": "code",
   "execution_count": 37,
   "metadata": {},
   "outputs": [
    {
     "name": "stdout",
     "output_type": "stream",
     "text": [
      "I will cheer for you! Enter a word:DUPA\n",
      "Enthusiasm level (1-10):2\n",
      "Gime me a  D! D\n",
      "Gime me a  U! U\n",
      "Gime me a  P! P\n",
      "Gime me an A! A\n",
      "what does that spell?\n",
      "DUPA !!!\n",
      "DUPA !!!\n"
     ]
    }
   ],
   "source": [
    "an_letters = \"aefhilmnorsxAEFHILMNORSX\"\n",
    "word = input(\"I will cheer for you! Enter a word:\")\n",
    "times= int(input(\"Enthusiasm level (1-10):\"))\n",
    "\n",
    "i = 0\n",
    "\n",
    "while i < len(word):\n",
    "    char = word[i]\n",
    "    if char in an_letters:\n",
    "        print(\"Gime me an \" + char+\"! \"+char)\n",
    "    else:\n",
    "        print(\"Gime me a  \" + char+\"! \"+char)\n",
    "    i=i+1\n",
    "print(\"what does that spell?\")\n",
    "for i in range(times):\n",
    "    print(word,\"!!!\")"
   ]
  },
  {
   "cell_type": "code",
   "execution_count": 39,
   "metadata": {},
   "outputs": [
    {
     "name": "stdout",
     "output_type": "stream",
     "text": [
      "I will cheer for you! Enter a word:DUPA\n",
      "Enthusiasm level (1-10):3\n",
      "Gime me a  D! D\n",
      "Gime me a  U! U\n",
      "Gime me a  P! P\n",
      "Gime me an A! A\n",
      "what does that spell?\n",
      "DUPA !!!\n",
      "DUPA !!!\n",
      "DUPA !!!\n"
     ]
    }
   ],
   "source": [
    "an_letters = \"aefhilmnorsxAEFHILMNORSX\"\n",
    "word = input(\"I will cheer for you! Enter a word:\")\n",
    "times= int(input(\"Enthusiasm level (1-10):\"))\n",
    "for char in word:\n",
    "    if char in an_letters:\n",
    "        print(\"Gime me an \" + char+\"! \"+char)\n",
    "    else:\n",
    "        print(\"Gime me a  \" + char+\"! \"+char)\n",
    "print(\"what does that spell?\")\n",
    "for i in range(times):\n",
    "    print(word,\"!!!\")"
   ]
  },
  {
   "cell_type": "markdown",
   "metadata": {},
   "source": [
    "## 3 Algorithms"
   ]
  },
  {
   "cell_type": "markdown",
   "metadata": {},
   "source": [
    "Guess and check\n"
   ]
  },
  {
   "cell_type": "code",
   "execution_count": 42,
   "metadata": {},
   "outputs": [
    {
     "name": "stdout",
     "output_type": "stream",
     "text": [
      "Cube root of -8 is -2\n"
     ]
    }
   ],
   "source": [
    "cube = -8\n",
    "\n",
    "#abs is absolute value\n",
    "\n",
    "for guess in range(abs(cube)+1):\n",
    "    if guess**3 >=abs(cube):\n",
    "        break\n",
    "if guess**3 != abs(cube):\n",
    "    print(cube, \"is not a perfect cube\")\n",
    "else:\n",
    "    if cube < 0:\n",
    "        guess = - guess\n",
    "    print(\"Cube root of \" +str(cube)+\" is \" +str(guess))"
   ]
  },
  {
   "cell_type": "markdown",
   "metadata": {},
   "source": [
    "Approximate solutions"
   ]
  },
  {
   "cell_type": "code",
   "execution_count": 44,
   "metadata": {},
   "outputs": [
    {
     "name": "stdout",
     "output_type": "stream",
     "text": [
      "num_guesses= 29997\n",
      "2.999700000001906 is close to the cube root of 27\n"
     ]
    }
   ],
   "source": [
    "cube = 27\n",
    "epsilon = 0.01\n",
    "guess = 0.0\n",
    "increment = 0.0001\n",
    "num_guesses = 0\n",
    "while abs(guess**3 - cube)>=epsilon:\n",
    "    guess+=increment\n",
    "    num_guesses +=1\n",
    "print('num_guesses=', num_guesses)\n",
    "if abs(guess**3 - cube) >= epsilon:\n",
    "    print('Failed on cube root of', cube)\n",
    "else:\n",
    "    print(guess,'is close to the cube root of',cube)"
   ]
  },
  {
   "cell_type": "markdown",
   "metadata": {},
   "source": [
    "Bisection search"
   ]
  },
  {
   "cell_type": "markdown",
   "metadata": {},
   "source": [
    "select number in the middle, ask if higher or lower and eliminate other half\n",
    "so on and os on and so on"
   ]
  },
  {
   "cell_type": "code",
   "execution_count": 5,
   "metadata": {},
   "outputs": [
    {
     "name": "stdout",
     "output_type": "stream",
     "text": [
      "num_guesses=  14\n"
     ]
    }
   ],
   "source": [
    "cube = 27\n",
    "epsilon = 0.01\n",
    "num_guesses = 0 \n",
    "low = 0 \n",
    "high = cube\n",
    "guess = (high + low)/2.0\n",
    "while abs(guess**3 - cube) >=epsilon:\n",
    "    if guess**3 < cube:\n",
    "        low = guess\n",
    "    else: \n",
    "        high = guess\n",
    "    guess = (high + low)/ 2.0\n",
    "    num_guesses +=1\n",
    "print('num_guesses= ',num_guesses)"
   ]
  },
  {
   "cell_type": "markdown",
   "metadata": {},
   "source": [
    "# Lesson 4"
   ]
  },
  {
   "cell_type": "markdown",
   "metadata": {},
   "source": [
    "Decomposition, Abstraction and Functions\n",
    "\n",
    "Decomposition - giving small part of a task to different parts of code \n",
    "Abstraction - you odn't need to know how something works to use it\n"
   ]
  },
  {
   "cell_type": "code",
   "execution_count": 1,
   "metadata": {},
   "outputs": [
    {
     "name": "stdout",
     "output_type": "stream",
     "text": [
      "inside is_even\n"
     ]
    },
    {
     "data": {
      "text/plain": [
       "False"
      ]
     },
     "execution_count": 1,
     "metadata": {},
     "output_type": "execute_result"
    }
   ],
   "source": [
    "def is_even(i):\n",
    "    \"\"\"\n",
    "    Input: i, a positive int\n",
    "    Returns True if i is even, otherwise False\n",
    "    \"\"\"\n",
    "    print(\"inside is_even\")\n",
    "    return i%2==0\n",
    "is_even(3)"
   ]
  },
  {
   "cell_type": "code",
   "execution_count": 2,
   "metadata": {},
   "outputs": [
    {
     "name": "stdout",
     "output_type": "stream",
     "text": [
      "in f(x): x = 4\n"
     ]
    }
   ],
   "source": [
    "def f(x):\n",
    "    x+=1\n",
    "    print(\"in f(x): x =\", x)\n",
    "    return x\n",
    "x=3\n",
    "z=f(x)"
   ]
  },
  {
   "cell_type": "code",
   "execution_count": 3,
   "metadata": {},
   "outputs": [
    {
     "data": {
      "text/plain": [
       "3"
      ]
     },
     "execution_count": 3,
     "metadata": {},
     "output_type": "execute_result"
    }
   ],
   "source": [
    "x"
   ]
  },
  {
   "cell_type": "markdown",
   "metadata": {},
   "source": [
    "Variables inside function are in the separate scope so you can use the \n",
    "same names of the variables as in the main code."
   ]
  },
  {
   "cell_type": "code",
   "execution_count": 8,
   "metadata": {},
   "outputs": [
    {
     "name": "stdout",
     "output_type": "stream",
     "text": [
      "g: x= 4\n",
      "abc\n"
     ]
    },
    {
     "data": {
      "text/plain": [
       "4"
      ]
     },
     "execution_count": 8,
     "metadata": {},
     "output_type": "execute_result"
    }
   ],
   "source": [
    "def g(x):\n",
    "    def h():\n",
    "        x = \"abc\"\n",
    "        print(x)\n",
    "    x+=1\n",
    "    print(\"g: x=\",x)\n",
    "    h()\n",
    "    return x\n",
    "\n",
    "x = 3\n",
    "\n",
    "z = g(x)\n",
    "\n",
    "z"
   ]
  },
  {
   "cell_type": "code",
   "execution_count": 59,
   "metadata": {},
   "outputs": [
    {
     "name": "stdout",
     "output_type": "stream",
     "text": [
      "_ p p _ _\n"
     ]
    }
   ],
   "source": [
    "def get_guessed_word(secret_word, letters_guessed):\n",
    "    '''\n",
    "    secret_word: string, the word the user is guessing\n",
    "    letters_guessed: list (of letters), which letters have been guessed so far\n",
    "    returns: string, comprised of letters, underscores (_), and spaces that represents\n",
    "      which letters in secret_word have been guessed so far.\n",
    "    '''\n",
    "    i=0\n",
    "    x = \"_\" * len(secret_word)\n",
    "    for char in secret_word:\n",
    "        if char in letters_guessed:\n",
    "            x = x[:i]+char+x[i+1:]\n",
    "        i+=1\n",
    "    x = \" \".join(x)\n",
    "    return x\n",
    "        \n",
    "        \n",
    "        \n",
    "        \n",
    "secret_word = 'apple' \n",
    "letters_guessed = ['r','i', 'k', 'p', 'r', 's'] \n",
    "print(get_guessed_word(secret_word, letters_guessed)) \n"
   ]
  },
  {
   "cell_type": "code",
   "execution_count": 62,
   "metadata": {},
   "outputs": [],
   "source": [
    "def is_word_guessed(secret_word, letters_guessed):\n",
    "    '''\n",
    "    secret_word: string, the word the user is guessing; assumes all letters are\n",
    "      lowercase\n",
    "    letters_guessed: list (of letters), which letters have been guessed so far;\n",
    "      assumes that all letters are lowercase\n",
    "    returns: boolean, True if all the letters of secret_word are in letters_guessed;\n",
    "      False otherwise\n",
    "    '''\n",
    "    # FILL IN YOUR CODE HERE AND DELETE \"pass\"\n",
    "    i=0\n",
    "    for char in secret_word:\n",
    "        if char in letters_guessed:\n",
    "            i +=1\n",
    "    if i == len(secret_word):\n",
    "        return True\n",
    "    else:\n",
    "        return False"
   ]
  },
  {
   "cell_type": "code",
   "execution_count": 69,
   "metadata": {},
   "outputs": [
    {
     "name": "stdout",
     "output_type": "stream",
     "text": [
      "abcdefghijklmnopqrstuvwxyz\n"
     ]
    }
   ],
   "source": [
    "import string\n",
    "def get_available_letters(letters_guessed):\n",
    "    '''\n",
    "    letters_guessed: list (of letters), which letters have been guessed so far\n",
    "    returns: string (of letters), comprised of letters that represents which letters have not\n",
    "      yet been guessed.\n",
    "    '''\n",
    "    x = string.ascii_lowercase\n",
    "    for char in letters_guessed:\n",
    "        if char in x:\n",
    "            x= x.replace(char,\"\")\n",
    "    return x\n",
    "letters_guessed = []\n",
    "print(get_available_letters(letters_guessed)) \n",
    "\n",
    "    \n"
   ]
  },
  {
   "cell_type": "code",
   "execution_count": 1,
   "metadata": {},
   "outputs": [],
   "source": [
    "import string\n",
    "def get_guessed_word(secret_word, letters_guessed):\n",
    "    '''\n",
    "    secret_word: string, the word the user is guessing\n",
    "    letters_guessed: list (of letters), which letters have been guessed so far\n",
    "    returns: string, comprised of letters, underscores (_), and spaces that represents\n",
    "      which letters in secret_word have been guessed so far.\n",
    "    '''\n",
    "    i=0\n",
    "    x = \"_\" * len(secret_word)\n",
    "    for char in secret_word:\n",
    "        if char in letters_guessed:\n",
    "            x = x[:i]+char+x[i+1:]\n",
    "        i+=1\n",
    "    x = \" \".join(x)\n",
    "    return x\n",
    "        \n",
    "        \n",
    "def is_word_guessed(secret_word, letters_guessed):\n",
    "    '''\n",
    "    secret_word: string, the word the user is guessing; assumes all letters are\n",
    "      lowercase\n",
    "    letters_guessed: list (of letters), which letters have been guessed so far;\n",
    "      assumes that all letters are lowercase\n",
    "    returns: boolean, True if all the letters of secret_word are in letters_guessed;\n",
    "      False otherwise\n",
    "    '''\n",
    "    # FILL IN YOUR CODE HERE AND DELETE \"pass\"\n",
    "    i=0\n",
    "    for char in secret_word:\n",
    "        if char in letters_guessed:\n",
    "            i +=1\n",
    "    if i == len(secret_word):\n",
    "        return True\n",
    "    else:\n",
    "        return False\n",
    "    \n",
    "def get_available_letters(letters_guessed):\n",
    "    '''\n",
    "    letters_guessed: list (of letters), which letters have been guessed so far\n",
    "    returns: string (of letters), comprised of letters that represents which letters have not\n",
    "      yet been guessed.\n",
    "    '''\n",
    "    x = string.ascii_lowercase\n",
    "    for char in letters_guessed:\n",
    "        if char in x:\n",
    "            x= x.replace(char,\"\")\n",
    "    return x\n",
    "        \n",
    "\n",
    "\n"
   ]
  },
  {
   "cell_type": "code",
   "execution_count": 7,
   "metadata": {},
   "outputs": [
    {
     "name": "stdout",
     "output_type": "stream",
     "text": [
      "Welcome to the game Hangman! \n",
      "I am thinking of a word that is 4 letters long. \n",
      "You have 3 warnings left.\n",
      "- - - - - - - - - - - - - - - - - - - - - - - - - - - - - - - - \n",
      "You have 6 guesses left.\n",
      "Available letters: abcdefghijklmnopqrstuvwxyz\n",
      "Please guess a letter:a\n",
      "Oops! That letter is not in my word: _ _ _ _\n",
      "- - - - - - - - - - - - - - - - - - - - - - - - - - - - - - - - \n",
      "You have 5 guesses left.\n",
      "Available letters: bcdefghijklmnopqrstuvwxyz\n",
      "Please guess a letter:b\n",
      "Oops! That letter is not in my word: _ _ _ _\n",
      "- - - - - - - - - - - - - - - - - - - - - - - - - - - - - - - - \n",
      "You have 4 guesses left.\n",
      "Available letters: cdefghijklmnopqrstuvwxyz\n",
      "Please guess a letter:c\n",
      "Oops! That letter is not in my word: _ _ _ _\n",
      "- - - - - - - - - - - - - - - - - - - - - - - - - - - - - - - - \n",
      "You have 3 guesses left.\n",
      "Available letters: defghijklmnopqrstuvwxyz\n",
      "Please guess a letter:2\n",
      "Provide one letter at the time!\n",
      "You have 2 warnings left.\n",
      "- - - - - - - - - - - - - - - - - - - - - - - - - - - - - - - - \n",
      "You have 3 guesses left.\n",
      "Available letters: defghijklmnopqrstuvwxyz\n",
      "Please guess a letter:d\n",
      "Oops! That letter is not in my word: _ _ _ _\n",
      "- - - - - - - - - - - - - - - - - - - - - - - - - - - - - - - - \n",
      "You have 2 guesses left.\n",
      "Available letters: efghijklmnopqrstuvwxyz\n",
      "Please guess a letter:e\n",
      "Good guess: e _ _ e\n",
      "- - - - - - - - - - - - - - - - - - - - - - - - - - - - - - - - \n",
      "You have 2 guesses left.\n",
      "Available letters: fghijklmnopqrstuvwxyz\n",
      "Please guess a letter:f\n",
      "Oops! That letter is not in my word: e _ _ e\n",
      "- - - - - - - - - - - - - - - - - - - - - - - - - - - - - - - - \n",
      "You have 1 guesses left.\n",
      "Available letters: ghijklmnopqrstuvwxyz\n",
      "Please guess a letter:f\n",
      "You already guessed that letter. Warnings left: 1\n",
      "- - - - - - - - - - - - - - - - - - - - - - - - - - - - - - - - \n",
      "You have 1 guesses left.\n",
      "Available letters: ghijklmnopqrstuvwxyz\n",
      "Please guess a letter:f\n",
      "You have 0 warnings left\n",
      "- - - - - - - - - - - - - - - - - - - - - - - - - - - - - - - - \n",
      "Sorry, you ran out of guesses. The word was: else\n"
     ]
    }
   ],
   "source": [
    "secret_word = 'else' \n",
    "\n",
    "def hangman(secret_word):\n",
    "    '''\n",
    "    secret_word: string, the secret word to guess.\n",
    "    \n",
    "    Starts up an interactive game of Hangman.\n",
    "    \n",
    "    * At the start of the game, let the user know how many \n",
    "      letters the secret_word contains and how many guesses s/he starts with.\n",
    "      \n",
    "    * The user should start with 6 guesses\n",
    "\n",
    "    * Before each round, you should display to the user how many guesses\n",
    "      s/he has left and the letters that the user has not yet guessed.\n",
    "    \n",
    "    * Ask the user to supply one guess per round. Remember to make\n",
    "      sure that the user puts in a letter!\n",
    "    \n",
    "    * The user should receive feedback immediately after each guess \n",
    "      about whether their guess appears in the computer's word.\n",
    "\n",
    "    * After each guess, you should display to the user the \n",
    "      partially guessed word so far.\n",
    "    \n",
    "    Follows the other limitations detailed in the problem write-up.\n",
    "    '''\n",
    "    # FILL IN YOUR CODE HERE AND DELETE \"pass\"\n",
    "    num_guesses = 0 \n",
    "    letters_guessed = []\n",
    "    num_warnings = 0\n",
    "    print(\"Welcome to the game Hangman! \")\n",
    "    print(\"I am thinking of a word that is\", len(secret_word) ,\"letters long. \")\n",
    "    print(\"You have 3 warnings left.\")   \n",
    "    print(\"- - - - - - - - - - - - - - - - - - - - - - - - - - - - - - - - \")\n",
    "    while is_word_guessed(secret_word, letters_guessed) == False and num_guesses < 6:\n",
    "        print(\"You have\",6 -  num_guesses,\"guesses left.\")\n",
    "        print(\"Available letters:\",get_available_letters(letters_guessed))\n",
    "        \n",
    "    #GET USER INPUT and check if it is correct-------------------------------------------------\n",
    "        x = str.lower(input(\"Please guess a letter:\" ))\n",
    "        while len(x) != 1 or x not in string.ascii_lowercase:\n",
    "            print(\"Provide one letter at the time!\")\n",
    "            num_warnings+=1\n",
    "            if num_warnings == 3:\n",
    "                num_guesses +=1\n",
    "                print(\"You have 0 warnings left\")\n",
    "                print(\"You have\",6 -  num_guesses,\"guesses left.\")\n",
    "                print(\"- - - - - - - - - - - - - - - - - - - - - - - - - - - - - - - - \")\n",
    "            elif num_warnings > 3:\n",
    "                num_guesses +=1\n",
    "                print(\"You have no warnings left\")\n",
    "                print(\"You have\",6 -  num_guesses,\"guesses left.\")\n",
    "                print(\"- - - - - - - - - - - - - - - - - - - - - - - - - - - - - - - - \")\n",
    "            else:\n",
    "                print(\"You have\", 3 - num_warnings, \"warnings left.\")\n",
    "                print(\"- - - - - - - - - - - - - - - - - - - - - - - - - - - - - - - - \")\n",
    "            print(\"You have\",6 -  num_guesses,\"guesses left.\")\n",
    "            print(\"Available letters:\",get_available_letters(letters_guessed))\n",
    "            x = str.lower(input(\"Please guess a letter:\" ))\n",
    "    #End of getting user input------------------------------------------------------------------\n",
    "    \n",
    "        if x in letters_guessed:\n",
    "            num_warnings+=1\n",
    "            if num_warnings == 3:\n",
    "                num_guesses +=1\n",
    "                print(\"You have 0 warnings left\")\n",
    "            elif num_warnings > 3:\n",
    "                num_guesses +=1\n",
    "                \n",
    "                print(\"You have no warnings left\")\n",
    "            else:\n",
    "                print(\"You already guessed that letter. Warnings left:\", 3 - num_warnings)\n",
    "            \n",
    "        else:\n",
    "            letters_guessed.append(x)\n",
    "            \n",
    "            #print(\"Available letters:\",get_available_letters(letters_guessed))\n",
    "            if x in secret_word:\n",
    "                print(\"Good guess:\",get_guessed_word(secret_word, letters_guessed))\n",
    "            else:\n",
    "                \n",
    "                print(\"Oops! That letter is not in my word:\",get_guessed_word(secret_word, letters_guessed))\n",
    "                num_guesses +=1\n",
    "        print(\"- - - - - - - - - - - - - - - - - - - - - - - - - - - - - - - - \")\n",
    "    if is_word_guessed(secret_word, letters_guessed) == True:\n",
    "        print(\"Congratulations, you won!\")\n",
    "        print(\"Your total score for this game is:\", (6- num_guesses) * len(set(secret_word)))\n",
    "    else:\n",
    "        print(\"Sorry, you ran out of guesses. The word was:\", secret_word)\n",
    "              \n",
    "              \n",
    "hangman(secret_word)"
   ]
  },
  {
   "cell_type": "code",
   "execution_count": 72,
   "metadata": {
    "collapsed": true
   },
   "outputs": [
    {
     "data": {
      "text/plain": [
       "['a', 's', 'd', 'f', 'g', 'h']"
      ]
     },
     "execution_count": 72,
     "metadata": {},
     "output_type": "execute_result"
    }
   ],
   "source": [
    "letters_guessed"
   ]
  },
  {
   "cell_type": "code",
   "execution_count": 11,
   "metadata": {},
   "outputs": [
    {
     "data": {
      "text/plain": [
       "4"
      ]
     },
     "execution_count": 11,
     "metadata": {},
     "output_type": "execute_result"
    }
   ],
   "source": [
    "len(set(secret_word))"
   ]
  },
  {
   "cell_type": "code",
   "execution_count": 7,
   "metadata": {},
   "outputs": [
    {
     "data": {
      "text/plain": [
       "'your string'"
      ]
     },
     "execution_count": 7,
     "metadata": {},
     "output_type": "execute_result"
    }
   ],
   "source": [
    "str.lower(\"Your String\") "
   ]
  },
  {
   "cell_type": "code",
   "execution_count": null,
   "metadata": {},
   "outputs": [],
   "source": []
  }
 ],
 "metadata": {
  "kernelspec": {
   "display_name": "Python 3",
   "language": "python",
   "name": "python3"
  },
  "language_info": {
   "codemirror_mode": {
    "name": "ipython",
    "version": 3
   },
   "file_extension": ".py",
   "mimetype": "text/x-python",
   "name": "python",
   "nbconvert_exporter": "python",
   "pygments_lexer": "ipython3",
   "version": "3.7.6"
  }
 },
 "nbformat": 4,
 "nbformat_minor": 4
}
