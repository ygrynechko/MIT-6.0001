{
 "cells": [
  {
   "cell_type": "markdown",
   "metadata": {},
   "source": [
    "# My Syllabus "
   ]
  },
  {
   "cell_type": "markdown",
   "metadata": {},
   "source": [
    "In this file I am going to document steps I have taken to master Python and Machine Learning."
   ]
  },
  {
   "cell_type": "markdown",
   "metadata": {},
   "source": [
    "### 1. IBM Data Science on Coursera "
   ]
  },
  {
   "cell_type": "markdown",
   "metadata": {},
   "source": [
    "I started with this course on Coursera. The whole thing took me about a month. By any means I don't \n",
    "think that it was a wasted time. Some assigments were great and I learned a lot but I felt like catching up all the time.\n",
    "The videos didn't explain all of the bits of the code which were used so sometimes it required a lot of digging the web.\n",
    "Unfortunetelly every assigment I published was just scorred to max without any comments. I know that I solved the problem\n",
    "but was the method the fastest? Have no idea. \n",
    "As the result of the course I did this analysis for final assignment: \n",
    "https://github.com/ygrynechko/IBM_Data_Science_Final_Project\n",
    "\n",
    "Overall it was fun but I feel like I need to get back to basics before trying my own more suffisticated projects. \n",
    "\n",
    "PS: great tool to help you understnad your code: http://www.pythontutor.com/visualize.html#mode=edit"
   ]
  },
  {
   "cell_type": "markdown",
   "metadata": {},
   "source": [
    "### 2. Getting basics right: MIT 6.0001"
   ]
  },
  {
   "cell_type": "markdown",
   "metadata": {},
   "source": [
    "I found out that you can access some of the MIT classes for free on https://ocw.mit.edu/. To be honest this is sorf of an utopian access to the knowledge. How great is the fact that you can just go on-line and learn the same way as the students of the most prestigious IT school in the world? There plenty of classes related to ML but I wanted to have a really solid basics before starting harder things. Went through 6.0001, my notes and solved assignments are available here: https://github.com/ygrynechko. The class itself is quite simple, I didn't have any issues understanding discussed concepts. Assignments were usually a lot of fun. Sometimes they took a lot of time but the feeling of getting the right result is the greatest! Before completing the assignments I went through recommended reading which you can find here: https://github.com/y0m0/MIT.6.00.1x/blob/master/Introduction.to.Computation.and.Programming.Using.Python.2nd.Edition.pdf.\n"
   ]
  },
  {
   "cell_type": "markdown",
   "metadata": {},
   "source": [
    "### 3. Andrew Ng on Coursera "
   ]
  },
  {
   "cell_type": "code",
   "execution_count": null,
   "metadata": {},
   "outputs": [],
   "source": []
  }
 ],
 "metadata": {
  "kernelspec": {
   "display_name": "Python 3",
   "language": "python",
   "name": "python3"
  },
  "language_info": {
   "codemirror_mode": {
    "name": "ipython",
    "version": 3
   },
   "file_extension": ".py",
   "mimetype": "text/x-python",
   "name": "python",
   "nbconvert_exporter": "python",
   "pygments_lexer": "ipython3",
   "version": "3.7.6"
  }
 },
 "nbformat": 4,
 "nbformat_minor": 4
}
